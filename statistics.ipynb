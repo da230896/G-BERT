{
 "cells": [
  {
   "cell_type": "code",
   "execution_count": 1,
   "metadata": {},
   "outputs": [],
   "source": [
    "import pandas as pd\n",
    "import os\n",
    "\n",
    "from vocab import Vocab\n",
    "from constants import *"
   ]
  },
  {
   "cell_type": "markdown",
   "metadata": {},
   "source": [
    "# <span style=\"text-decoration: underline\">Statistics</span>\n",
    "This is the file where statistics are calculated\n",
    "\n",
    "#### <u>Stat-1: Method to calculate % of visits that have higher than certain threshold % of \"[unk]\" tokens </u>"
   ]
  },
  {
   "cell_type": "code",
   "execution_count": null,
   "metadata": {},
   "outputs": [],
   "source": [
    "def percentage_visits_with_high_unk(vocab: Vocab, threshold: float = 0.3, for_single_vsit: bool = False):\n",
    "    visit_record_key = [\"SUBJECT_ID\", \"HADM_ID\", \"ICD9_CODE\", \"ATC4\"]\n",
    "    visit = pd.read_pickle(os.path.join(GLOBAL_DATA_PATH, MULTI_VISIT_PKL))[visit_record_key[1:]]\n",
    "    if for_single_vsit is True:\n",
    "        visit = pd.read_pickle(os.path.join(GLOBAL_DATA_PATH, SINGLE_VISIT_PKL))[visit_record_key[1:]]\n",
    "    total = visit.shape[0]\n",
    "    def process(row):\n",
    "        icd: list[str] = row[\"ICD9_CODE\"]\n",
    "        unk = 0\n",
    "        for code in icd:\n",
    "            if vocab.word2idx.get(code) == None:\n",
    "                unk += 1\n",
    "        if unk/len(icd) > threshold:\n",
    "            print(row[\"HADM_ID\"])\n",
    "            return 1\n",
    "    temp = visit.apply(process, axis=1)\n",
    "    count: int = temp.loc[temp == 1].shape[0]\n",
    "    return count/total"
   ]
  }
 ],
 "metadata": {
  "interpreter": {
   "hash": "6a82d6eb3804a92444605d7a5aa99dc8a820299debc222bc81f709e34341d1d1"
  },
  "kernelspec": {
   "display_name": "Python 3.9.12 ('illi_MS_DS')",
   "language": "python",
   "name": "python3"
  },
  "language_info": {
   "codemirror_mode": {
    "name": "ipython",
    "version": 3
   },
   "file_extension": ".py",
   "mimetype": "text/x-python",
   "name": "python",
   "nbconvert_exporter": "python",
   "pygments_lexer": "ipython3",
   "version": "3.9.12"
  },
  "orig_nbformat": 4
 },
 "nbformat": 4,
 "nbformat_minor": 2
}
