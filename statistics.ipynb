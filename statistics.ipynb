{
 "cells": [
  {
   "cell_type": "code",
   "execution_count": 146,
   "metadata": {},
   "outputs": [],
   "source": [
    "import sys\n",
    "sys.path.append('../')\n",
    "import pandas as pd\n",
    "\n",
    "pd.options.mode.chained_assignment = None"
   ]
  },
  {
   "cell_type": "code",
   "execution_count": 147,
   "metadata": {},
   "outputs": [],
   "source": [
    "GLOBAL_DATA_PATH = \"./Data\"\n",
    "\n",
    "MULTI_VISIT_DATA_PATH = GLOBAL_DATA_PATH + '/multi_visit_temporal.pkl'\n",
    "SINGLE_VISIT_DIAG_DATA_PATH = GLOBAL_DATA_PATH + '/single_visit_diag.pkl'\n",
    "SINGLE_VISIT_MED_DATA_PATH = GLOBAL_DATA_PATH + '/single_visit_med.pkl'\n",
    "\n",
    "UNIQUE_ATC_CSV= \"unique-atc4.csv\"\n",
    "UNIQUE_ICD_CSV = \"unique-icd.csv\"\n",
    "\n",
    "ADMISSIONS_CSV = GLOBAL_DATA_PATH + '/ADMISSIONS.csv'\n",
    "DIAGNOSES_CSV = GLOBAL_DATA_PATH + '/DIAGNOSES_ICD.csv'\n",
    "MEDICATIONS_CSV = GLOBAL_DATA_PATH + '/PRESCRIPTIONS.csv'\n",
    "\n",
    "SUBJECT_ID = 'SUBJECT_ID'\n",
    "HADM_ID = 'HADM_ID'\n",
    "ICD9 = 'ICD9_CODE'\n",
    "NDC = 'NDC'\n",
    "ATC4 = 'ATC4'"
   ]
  },
  {
   "cell_type": "code",
   "execution_count": 148,
   "metadata": {},
   "outputs": [],
   "source": [
    "def get_average_max(data,):\n",
    "    patients = data[SUBJECT_ID].unique()\n",
    "    num_patients = len(patients)\n",
    "\n",
    "    num_diag = 0\n",
    "    num_meds = 0\n",
    "    max_diag = 0\n",
    "    max_meds = 0\n",
    "    cnt = 0\n",
    "    max_visits = 0\n",
    "    num_visits = 0\n",
    "\n",
    "    for subject_id in patients:\n",
    "        item_data = data[data['SUBJECT_ID'] == subject_id]\n",
    "        x = []\n",
    "        y = []\n",
    "        visit_cnt = 0\n",
    "        for row in item_data.iterrows():\n",
    "            visit_cnt += 1\n",
    "            cnt += 1\n",
    "            for codes in row[1]['ICD9_CODE']:\n",
    "                x.extend(codes)\n",
    "            \n",
    "            for codes in row[1][ATC4]:\n",
    "                y.extend(codes)\n",
    "\n",
    "        x = set(x)\n",
    "        y = set(y)\n",
    "        num_diag += len(x)\n",
    "        num_meds += len(y)\n",
    "        num_visits += visit_cnt\n",
    "        if len(x) > max_diag:\n",
    "            max_diag = len(x)\n",
    "        if len(y) > max_meds:\n",
    "            max_meds = len(y) \n",
    "        if visit_cnt > max_visits:\n",
    "            max_visits = visit_cnt\n",
    "\n",
    "    avg_diag = num_diag / cnt\n",
    "    avg_meds = num_meds / cnt\n",
    "    avg_visits = num_visits / num_patients\n",
    "    \n",
    "\n",
    "    return avg_diag, avg_meds, avg_visits, max_diag, max_meds, max_visits"
   ]
  },
  {
   "cell_type": "code",
   "execution_count": 163,
   "metadata": {},
   "outputs": [],
   "source": [
    "def get_unique_values(column):\n",
    "    unique_values = []\n",
    "\n",
    "    for row in column:\n",
    "        for j in row:\n",
    "            unique_values.extend(j)\n",
    "\n",
    "    unique_values = set(unique_values)\n",
    "    return unique_values"
   ]
  },
  {
   "cell_type": "code",
   "execution_count": 166,
   "metadata": {},
   "outputs": [],
   "source": [
    "def statistics(data: pd.DataFrame):    \n",
    "    avg_diag, avg_meds, avg_visits, max_diag, max_meds, max_visits = get_average_max(data)\n",
    "        \n",
    "    print('Number of Patients: ', data[SUBJECT_ID].unique().shape)\n",
    "    print('Number of Clinical Events ', len(data))\n",
    "    \n",
    "    diagnoses = data[ICD9].values\n",
    "    meds = data[ATC4].values\n",
    "\n",
    "    unique_diagnoses = get_unique_values(diagnoses)\n",
    "    unique_meds = get_unique_values(meds)\n",
    "    \n",
    "    print('Number of Unique Diagnoses: ', len(unique_diagnoses))\n",
    "    print('Number of Unique Medications ', len(unique_meds))\n",
    "\n",
    "    print('Average Diagnoses: ', avg_diag)\n",
    "    print('Average Medications: ', avg_meds)\n",
    "    print('Average Visits: ', avg_visits)\n",
    "    \n",
    "\n",
    "    print('Max Diagnoses: ', max_diag)\n",
    "    print('Max Medications: ', max_meds)\n",
    "    print('Max Visits: ', max_visits)\n",
    "\n",
    "\n"
   ]
  },
  {
   "cell_type": "code",
   "execution_count": 167,
   "metadata": {},
   "outputs": [
    {
     "name": "stdout",
     "output_type": "stream",
     "text": [
      "Number of Patients:  (6290,)\n",
      "Number of Clinical Events  10380\n",
      "Number of Unique Diagnoses:  4162\n",
      "Number of Unique Medications  374\n",
      "Average Diagnoses:  10.9368978805395\n",
      "Average Medications:  17.745472061657033\n",
      "Average Visits:  1.6502384737678855\n",
      "Max Diagnoses:  140\n",
      "Max Medications:  134\n",
      "Max Visits:  40\n"
     ]
    }
   ],
   "source": [
    "data_pd = pd.read_pickle(MULTI_VISIT_DATA_PATH)\n",
    "statistics(data_pd)"
   ]
  }
 ],
 "metadata": {
  "interpreter": {
   "hash": "2be5faf79681da6f2a61fdfdd5405d65d042280f7fba6178067603e3a2925119"
  },
  "kernelspec": {
   "display_name": "Python 3.10.2 64-bit",
   "language": "python",
   "name": "python3"
  },
  "language_info": {
   "codemirror_mode": {
    "name": "ipython",
    "version": 3
   },
   "file_extension": ".py",
   "mimetype": "text/x-python",
   "name": "python",
   "nbconvert_exporter": "python",
   "pygments_lexer": "ipython3",
   "version": "3.10.2"
  },
  "orig_nbformat": 4
 },
 "nbformat": 4,
 "nbformat_minor": 2
}
